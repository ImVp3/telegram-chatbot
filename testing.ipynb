{
 "cells": [
  {
   "cell_type": "code",
   "execution_count": 59,
   "metadata": {},
   "outputs": [
    {
     "name": "stdout",
     "output_type": "stream",
     "text": [
      "['Transactions name', 'Cột 2', 'Cột 3', 'Cột 4', 'Cột 5', 'Cột 6']\n"
     ]
    }
   ],
   "source": [
    "import gspread\n",
    "from google.oauth2.service_account import Credentials\n",
    "\n",
    "scopes = [\n",
    "    \"https://www.googleapis.com/auth/spreadsheets\"\n",
    "]\n",
    "creds = Credentials.from_service_account_file(\"credentials.json\", scopes = scopes)\n",
    "client = gspread.authorize(creds)\n",
    "# https://docs.google.com/spreadsheets/d/1CRqmq1mhXGVcG4iIgGXQ7zZ3fLnlY6G5-TzxEXPbtrw/edit?gid=1284007627#gid=1284007627\n",
    "sheets = \"1CRqmq1mhXGVcG4iIgGXQ7zZ3fLnlY6G5-TzxEXPbtrw\"\n",
    "sheets = client.open_by_key(sheets)\n",
    "\n",
    "values_list = sheets.sheet1.row_values(1)\n",
    "print(values_list)"
   ]
  },
  {
   "cell_type": "code",
   "execution_count": null,
   "metadata": {},
   "outputs": [],
   "source": [
    "spreadsheet.worksheet(\"transactions\")"
   ]
  },
  {
   "cell_type": "code",
   "execution_count": null,
   "metadata": {},
   "outputs": [],
   "source": []
  },
  {
   "cell_type": "code",
   "execution_count": null,
   "metadata": {},
   "outputs": [],
   "source": [
    "import gspread\n",
    "from google.oauth2.service_account import Credentials\n",
    "from datetime import datetime\n",
    "\n",
    "creds = Credentials.from_service_account_file(\"credentials.json\", scopes=[\"https://spreadsheets.google.com/feeds\", \"https://www.googleapis.com/auth/drive\"])\n",
    "client = gspread.authorize(creds)\n",
    "spreadsheet  = \"1CRqmq1mhXGVcG4iIgGXQ7zZ3fLnlY6G5-TzxEXPbtrw\"\n",
    "spreadsheet  = client.open_by_key(spreadsheet )\n",
    "worksheet = spreadsheet.worksheet(\"transactions\")"
   ]
  },
  {
   "cell_type": "code",
   "execution_count": null,
   "metadata": {},
   "outputs": [],
   "source": []
  },
  {
   "cell_type": "code",
   "execution_count": null,
   "metadata": {},
   "outputs": [],
   "source": []
  },
  {
   "cell_type": "code",
   "execution_count": 68,
   "metadata": {},
   "outputs": [
    {
     "data": {
      "text/plain": [
       "{'spreadsheetId': '1CRqmq1mhXGVcG4iIgGXQ7zZ3fLnlY6G5-TzxEXPbtrw',\n",
       " 'tableRange': 'transactions!A1:F1',\n",
       " 'updates': {'spreadsheetId': '1CRqmq1mhXGVcG4iIgGXQ7zZ3fLnlY6G5-TzxEXPbtrw',\n",
       "  'updatedRange': 'transactions!A2:F2',\n",
       "  'updatedRows': 1,\n",
       "  'updatedColumns': 6,\n",
       "  'updatedCells': 6}}"
      ]
     },
     "execution_count": 68,
     "metadata": {},
     "output_type": "execute_result"
    }
   ],
   "source": [
    "new_row = [\n",
    "    \"Grocery Shopping\",  # Transaction name\n",
    "    500,                 # Amount\n",
    "    datetime.now().strftime(\"%Y-%m-%d %H:%M:%S\"),  # Time (formatted)\n",
    "    \"Food\",              # Category\n",
    "    \"Credit Card\",       # Payment Method\n",
    "    \"Bought fresh vegetables\"  # Note\n",
    "]\n",
    "worksheet.append_row(new_row)"
   ]
  }
 ],
 "metadata": {
  "kernelspec": {
   "display_name": "telebot",
   "language": "python",
   "name": "python3"
  },
  "language_info": {
   "codemirror_mode": {
    "name": "ipython",
    "version": 3
   },
   "file_extension": ".py",
   "mimetype": "text/x-python",
   "name": "python",
   "nbconvert_exporter": "python",
   "pygments_lexer": "ipython3",
   "version": "3.12.2"
  }
 },
 "nbformat": 4,
 "nbformat_minor": 2
}
